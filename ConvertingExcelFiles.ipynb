{
 "cells": [
  {
   "cell_type": "markdown",
   "metadata": {},
   "source": [
    "# 1. Convert each Excel sheet to Cucumber Table\n",
    "## 1.1 Convert excel to custom_csv\n"
   ]
  },
  {
   "cell_type": "code",
   "execution_count": 10,
   "metadata": {},
   "outputs": [],
   "source": [
    "import pandas as pd\n",
    "import os\n",
    "\n",
    "def excel_to_custom_csv(excel_file_path, output_dir):\n",
    "    \"\"\"\n",
    "    Converts each sheet in an Excel file to a CSV file with custom formatting.\n",
    "    Parameters:\n",
    "    - excel_file_path (str): The path to the Excel file.\n",
    "    - output_dir (str): The directory to save the output CSV files.\n",
    "    Returns:\n",
    "    None\n",
    "    \"\"\"\n",
    "    # Read all sheets of the Excel file\n",
    "    sheets = pd.read_excel(excel_file_path, sheet_name=None)\n",
    "    \n",
    "    # Ensure the output directory exists\n",
    "    os.makedirs(output_dir, exist_ok=True)\n",
    "    \n",
    "    # Iterate over each sheet\n",
    "    for sheet_name, df in sheets.items():\n",
    "        # Define the output CSV file path\n",
    "        csv_file_path = os.path.join(output_dir, f\"{sheet_name}.csv\")\n",
    "        \n",
    "        # Open the output CSV file\n",
    "        with open(csv_file_path, 'w') as file:\n",
    "            # Write the header\n",
    "            file.write(\"| \" + \" | \".join(df.columns) + \" |\\n\")\n",
    "            \n",
    "            # Iterate over the DataFrame rows\n",
    "            for index, row in df.iterrows():\n",
    "                # Write each row with custom formatting\n",
    "                file.write(\"| \" + \" | \".join(map(str, row.values)) + \" |\\n\")\n",
    "\n",
    "# Example usage\n",
    "excel_file_path = '/workspaces/AI-Selenium/data.xlsx'\n",
    "cucumber_file_path = '/workspaces/AI-Selenium/output_file.csv'\n",
    "excel_to_custom_csv(excel_file_path, cucumber_file_path)"
   ]
  },
  {
   "cell_type": "markdown",
   "metadata": {},
   "source": []
  }
 ],
 "metadata": {
  "kernelspec": {
   "display_name": "Python 3",
   "language": "python",
   "name": "python3"
  },
  "language_info": {
   "codemirror_mode": {
    "name": "ipython",
    "version": 3
   },
   "file_extension": ".py",
   "mimetype": "text/x-python",
   "name": "python",
   "nbconvert_exporter": "python",
   "pygments_lexer": "ipython3",
   "version": "3.11.9"
  }
 },
 "nbformat": 4,
 "nbformat_minor": 2
}
