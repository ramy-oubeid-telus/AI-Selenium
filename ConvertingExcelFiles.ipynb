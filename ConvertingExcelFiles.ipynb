{
 "cells": [
  {
   "cell_type": "markdown",
   "metadata": {},
   "source": [
    "### Create a copilot that check the a feature file for its correctness"
   ]
  },
  {
   "cell_type": "code",
   "execution_count": null,
   "metadata": {},
   "outputs": [],
   "source": [
    "import re\n",
    "import openai\n",
    "\n",
    "# Set your OpenAI API key\n",
    "openai.api_key = 'Secreat'\n",
    "\n",
    "def check_cucumber_script(cucumber_file_path, regex_pattern, instructions, output_file_path):\n",
    "    \"\"\"\n",
    "    Checks a Cucumber script against a regular expression and proposes corrections using OpenAI API.\n",
    "    Parameters:\n",
    "    - cucumber_file_path (str): The path to the Cucumber script file.\n",
    "    - regex_pattern (str): The regular expression pattern to check against.\n",
    "    - instructions (str): The instructions for proposing corrections.\n",
    "    - output_file_path (str): The path to save the corrected Cucumber script.\n",
    "    Returns:\n",
    "    None\n",
    "    \"\"\"\n",
    "    # Compile the regular expression pattern\n",
    "    pattern = re.compile(regex_pattern)\n",
    "    \n",
    "    # Read the Cucumber script file\n",
    "    with open(cucumber_file_path, 'r') as file:\n",
    "        lines = file.readlines()\n",
    "    \n",
    "    corrected_lines = []\n",
    "    \n",
    "    # Check each line against the regular expression pattern\n",
    "    for line in lines:\n",
    "        if not pattern.match(line):\n",
    "            # Propose a correction using OpenAI API\n",
    "            corrected_line = propose_correction(line, instructions)\n",
    "            corrected_lines.append(corrected_line)\n",
    "        else:\n",
    "            corrected_lines.append(line)\n",
    "    \n",
    "    # Save the corrected Cucumber script to a new file\n",
    "    with open(output_file_path, 'w') as file:\n",
    "        file.writelines(corrected_lines)\n",
    "\n",
    "def propose_correction(line, instructions):\n",
    "    \"\"\"\n",
    "    Proposes a correction for a line of text using OpenAI API.\n",
    "    Parameters:\n",
    "    - line (str): The line of text to correct.\n",
    "    - instructions (str): The instructions for proposing corrections.\n",
    "    Returns:\n",
    "    str: The corrected line of text.\n",
    "    \"\"\"\n",
    "    response = openai.Completion.create(\n",
    "        engine=\"text-davinci-003\",\n",
    "        prompt=f\"{instructions}\\n\\nOriginal line: {line}\\nCorrected line:\",\n",
    "        max_tokens=50\n",
    "    )\n",
    "    corrected_line = response.choices[0].text.strip()\n",
    "    return corrected_line\n",
    "\n",
    "# Example usage\n",
    "cucumber_file_path = 'path/to/your/cucumber_script.feature'\n",
    "regex_pattern = r'^  (Given|When|Then|And|But) .+$'  # Example pattern for Cucumber steps\n",
    "instructions = \"Correct the Cucumber step to follow the proper format.\"\n",
    "output_file_path = 'path/to/your/corrected_cucumber_script.feature'\n",
    "check_cucumber_script(cucumber_file_path, regex_pattern, instructions, output_file_path)"
   ]
  },
  {
   "cell_type": "markdown",
   "metadata": {},
   "source": [
    "\n",
    "\n",
    "\n",
    "### Convert excel to custom_csv\n"
   ]
  },
  {
   "cell_type": "code",
   "execution_count": 2,
   "metadata": {},
   "outputs": [],
   "source": [
    "import pandas as pd\n",
    "import os\n",
    "\n",
    "def excel_to_custom_csv(excel_file_path, output_dir):\n",
    "    \"\"\"\n",
    "    Converts each sheet in an Excel file to a CSV file with custom formatting.\n",
    "    Parameters:\n",
    "    - excel_file_path (str): The path to the Excel file.\n",
    "    - output_dir (str): The directory to save the output CSV files.\n",
    "    Returns:\n",
    "    None\n",
    "    \"\"\"\n",
    "    # Read all sheets of the Excel file\n",
    "    sheets = pd.read_excel(excel_file_path, sheet_name=None)\n",
    "    \n",
    "    # Ensure the output directory exists\n",
    "    os.makedirs(output_dir, exist_ok=True)\n",
    "    \n",
    "    # Iterate over each sheet\n",
    "    for sheet_name, df in sheets.items():\n",
    "        # Define the output CSV file path\n",
    "        csv_file_path = os.path.join(output_dir, f\"{sheet_name}.csv\")\n",
    "        \n",
    "        # Open the output CSV file\n",
    "        with open(csv_file_path, 'w') as file:\n",
    "            # Write the header\n",
    "            file.write(\"| \" + \" | \".join(df.columns) + \" |\\n\")\n",
    "            \n",
    "            # Iterate over the DataFrame rows\n",
    "            for index, row in df.iterrows():\n",
    "                # Write each row with custom formatting\n",
    "                file.write(\"| \" + \" | \".join(map(str, row.values)) + \" |\\n\")"
   ]
  },
  {
   "cell_type": "markdown",
   "metadata": {},
   "source": [
    "### The function above example of usage"
   ]
  },
  {
   "cell_type": "code",
   "execution_count": 3,
   "metadata": {},
   "outputs": [],
   "source": [
    "# Usage of the function above to convert an Excel file to a custom CSV file format \n",
    "excel_file_path = '/workspaces/AI-Selenium/data.xlsx'\n",
    "cucumber_file_path = '/workspaces/AI-Selenium/output_file.csv'\n",
    "excel_to_custom_csv(excel_file_path, cucumber_file_path)"
   ]
  }
 ],
 "metadata": {
  "kernelspec": {
   "display_name": "Python 3",
   "language": "python",
   "name": "python3"
  },
  "language_info": {
   "codemirror_mode": {
    "name": "ipython",
    "version": 3
   },
   "file_extension": ".py",
   "mimetype": "text/x-python",
   "name": "python",
   "nbconvert_exporter": "python",
   "pygments_lexer": "ipython3",
   "version": "3.11.9"
  }
 },
 "nbformat": 4,
 "nbformat_minor": 2
}
